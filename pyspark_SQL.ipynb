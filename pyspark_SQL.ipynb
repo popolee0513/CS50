{
  "nbformat": 4,
  "nbformat_minor": 0,
  "metadata": {
    "colab": {
      "name": "pyspark SQL.ipynb",
      "provenance": [],
      "collapsed_sections": [],
      "authorship_tag": "ABX9TyNGYqVm6Fe8ORgxy4nKY60Y",
      "include_colab_link": true
    },
    "kernelspec": {
      "name": "python3",
      "display_name": "Python 3"
    },
    "language_info": {
      "name": "python"
    }
  },
  "cells": [
    {
      "cell_type": "markdown",
      "metadata": {
        "id": "view-in-github",
        "colab_type": "text"
      },
      "source": [
        "<a href=\"https://colab.research.google.com/github/popolee0513/CS50/blob/main/pyspark_SQL.ipynb\" target=\"_parent\"><img src=\"https://colab.research.google.com/assets/colab-badge.svg\" alt=\"Open In Colab\"/></a>"
      ]
    },
    {
      "cell_type": "code",
      "execution_count": null,
      "metadata": {
        "colab": {
          "base_uri": "https://localhost:8080/"
        },
        "id": "-U7dxKFugeic",
        "outputId": "b980b634-4b92-4cf7-e178-491a42d45c9f"
      },
      "outputs": [
        {
          "output_type": "stream",
          "name": "stdout",
          "text": [
            "Drive already mounted at /content/drive; to attempt to forcibly remount, call drive.mount(\"/content/drive\", force_remount=True).\n",
            "Reading package lists... Done\n",
            "Building dependency tree       \n",
            "Reading state information... Done\n",
            "openjdk-8-jre-headless is already the newest version (8u312-b07-0ubuntu1~18.04).\n",
            "0 upgraded, 0 newly installed, 0 to remove and 39 not upgraded.\n",
            "Requirement already satisfied: pyspark in /usr/local/lib/python3.7/dist-packages (3.2.1)\n",
            "Requirement already satisfied: py4j==0.10.9.3 in /usr/local/lib/python3.7/dist-packages (from pyspark) (0.10.9.3)\n"
          ]
        }
      ],
      "source": [
        "import sys\n",
        "import os\n",
        "from google.colab import drive\n",
        "drive.mount('/content/drive')\n",
        "os.chdir('/content/drive/My Drive/spark')\n",
        "!apt-get -y install openjdk-8-jre-headless\n",
        "!pip install pyspark"
      ]
    },
    {
      "cell_type": "code",
      "source": [
        "import pandas as pd\n",
        "from pyspark.sql import SparkSession\n",
        "from pyspark.context import SparkContext\n",
        "from pyspark.sql.functions import *\n",
        "from pyspark.sql.types import *\n",
        "from datetime import date, timedelta, datetime\n",
        "import time"
      ],
      "metadata": {
        "id": "QwARONzogsN4"
      },
      "execution_count": null,
      "outputs": []
    },
    {
      "cell_type": "code",
      "source": [
        "sc=SparkSession.builder.appName(\"PysparkSQL\").config(\"spark.sql.shuffle.partitions\",\"50\").config(\"spark.driver.maxResultSize\",\"5g\")\\\n",
        "                      .config(\"spark.sql.execution.arrow.enabled\", \"true\")\\\n",
        "                      .config(\"spark.sql.legacy.timeParserPolicy\",\"LEGACY\").getOrCreate()"
      ],
      "metadata": {
        "id": "bd7gChPkkQZp"
      },
      "execution_count": null,
      "outputs": []
    },
    {
      "cell_type": "code",
      "source": [
        "df = sc.read.csv('data.csv',header=True)\n",
        "df.show(10)"
      ],
      "metadata": {
        "colab": {
          "base_uri": "https://localhost:8080/"
        },
        "id": "Xlqw9kaIks5J",
        "outputId": "c94df68e-1078-4438-a8ce-95501615ac1f"
      },
      "execution_count": null,
      "outputs": [
        {
          "output_type": "stream",
          "name": "stdout",
          "text": [
            "+---------+---------+--------------------+--------+--------------+---------+----------+--------------+\n",
            "|InvoiceNo|StockCode|         Description|Quantity|   InvoiceDate|UnitPrice|CustomerID|       Country|\n",
            "+---------+---------+--------------------+--------+--------------+---------+----------+--------------+\n",
            "|   536365|   85123A|WHITE HANGING HEA...|       6|12/1/2010 8:26|     2.55|     17850|United Kingdom|\n",
            "|   536365|    71053| WHITE METAL LANTERN|       6|12/1/2010 8:26|     3.39|     17850|United Kingdom|\n",
            "|   536365|   84406B|CREAM CUPID HEART...|       8|12/1/2010 8:26|     2.75|     17850|United Kingdom|\n",
            "|   536365|   84029G|KNITTED UNION FLA...|       6|12/1/2010 8:26|     3.39|     17850|United Kingdom|\n",
            "|   536365|   84029E|RED WOOLLY HOTTIE...|       6|12/1/2010 8:26|     3.39|     17850|United Kingdom|\n",
            "|   536365|    22752|SET 7 BABUSHKA NE...|       2|12/1/2010 8:26|     7.65|     17850|United Kingdom|\n",
            "|   536365|    21730|GLASS STAR FROSTE...|       6|12/1/2010 8:26|     4.25|     17850|United Kingdom|\n",
            "|   536366|    22633|HAND WARMER UNION...|       6|12/1/2010 8:28|     1.85|     17850|United Kingdom|\n",
            "|   536366|    22632|HAND WARMER RED P...|       6|12/1/2010 8:28|     1.85|     17850|United Kingdom|\n",
            "|   536367|    84879|ASSORTED COLOUR B...|      32|12/1/2010 8:34|     1.69|     13047|United Kingdom|\n",
            "+---------+---------+--------------------+--------+--------------+---------+----------+--------------+\n",
            "only showing top 10 rows\n",
            "\n"
          ]
        }
      ]
    },
    {
      "cell_type": "code",
      "source": [
        "df.dtypes"
      ],
      "metadata": {
        "colab": {
          "base_uri": "https://localhost:8080/"
        },
        "id": "I0mB24HswfNY",
        "outputId": "31bd58b9-a2c6-4a5b-db03-bde1ff5287a5"
      },
      "execution_count": null,
      "outputs": [
        {
          "output_type": "execute_result",
          "data": {
            "text/plain": [
              "[('InvoiceNo', 'string'),\n",
              " ('StockCode', 'string'),\n",
              " ('Description', 'string'),\n",
              " ('Quantity', 'string'),\n",
              " ('InvoiceDate', 'string'),\n",
              " ('UnitPrice', 'string'),\n",
              " ('CustomerID', 'string'),\n",
              " ('Country', 'string')]"
            ]
          },
          "metadata": {},
          "execution_count": 5
        }
      ]
    },
    {
      "cell_type": "code",
      "source": [
        "df.printSchema()"
      ],
      "metadata": {
        "colab": {
          "base_uri": "https://localhost:8080/"
        },
        "id": "bo_tXNGc3Zh_",
        "outputId": "fcb5d0a6-76b6-4b20-9be4-43a5d3854062"
      },
      "execution_count": null,
      "outputs": [
        {
          "output_type": "stream",
          "name": "stdout",
          "text": [
            "root\n",
            " |-- InvoiceNo: string (nullable = true)\n",
            " |-- StockCode: string (nullable = true)\n",
            " |-- Description: string (nullable = true)\n",
            " |-- Quantity: string (nullable = true)\n",
            " |-- InvoiceDate: string (nullable = true)\n",
            " |-- UnitPrice: string (nullable = true)\n",
            " |-- CustomerID: string (nullable = true)\n",
            " |-- Country: string (nullable = true)\n",
            "\n"
          ]
        }
      ]
    },
    {
      "cell_type": "code",
      "source": [
        "print(df.count())\n",
        "print(df.rdd.getNumPartitions())\n",
        "df = df.repartition(10)\n",
        "print(df.rdd.getNumPartitions())\n",
        "###  check out the distribution of records in a partition \n",
        "print(df.rdd.glom().map(len).collect())"
      ],
      "metadata": {
        "colab": {
          "base_uri": "https://localhost:8080/"
        },
        "id": "7fCMuBuiwm7u",
        "outputId": "3aca2aff-22e6-4124-f5d0-90789efc2e58"
      },
      "execution_count": null,
      "outputs": [
        {
          "output_type": "stream",
          "name": "stdout",
          "text": [
            "541909\n",
            "2\n",
            "10\n",
            "[54191, 54191, 54191, 54191, 54191, 54190, 54191, 54191, 54191, 54191]\n"
          ]
        }
      ]
    },
    {
      "cell_type": "code",
      "source": [
        "col_org_name = df.columns"
      ],
      "metadata": {
        "id": "Wzby7WWIpU6L"
      },
      "execution_count": null,
      "outputs": []
    },
    {
      "cell_type": "code",
      "source": [
        "### rename all columns\n",
        "df = df.toDF(*['1','2','3','4','5','6','7','8'])\n",
        "df.show(1)"
      ],
      "metadata": {
        "colab": {
          "base_uri": "https://localhost:8080/"
        },
        "id": "EPNz2wdEpak7",
        "outputId": "a5538157-588f-43f5-8ad7-352115a76708"
      },
      "execution_count": null,
      "outputs": [
        {
          "output_type": "stream",
          "name": "stdout",
          "text": [
            "+------+------+--------------------+---+--------------+----+-----+--------------+\n",
            "|     1|     2|                   3|  4|             5|   6|    7|             8|\n",
            "+------+------+--------------------+---+--------------+----+-----+--------------+\n",
            "|562031|90039D|FIRE POLISHED GLA...|  2|8/1/2011 17:37|3.75|16984|United Kingdom|\n",
            "+------+------+--------------------+---+--------------+----+-----+--------------+\n",
            "only showing top 1 row\n",
            "\n"
          ]
        }
      ]
    },
    {
      "cell_type": "code",
      "source": [
        "df = df.toDF(*col_org_name)"
      ],
      "metadata": {
        "id": "DZHIejRgp0Nv"
      },
      "execution_count": null,
      "outputs": []
    },
    {
      "cell_type": "code",
      "source": [
        "### rename single column name\n",
        "df = df.withColumnRenamed(\"CustomerID\",\"UserID\")\n",
        "df.show(3)"
      ],
      "metadata": {
        "colab": {
          "base_uri": "https://localhost:8080/"
        },
        "id": "5mtVCvNvlCxr",
        "outputId": "3d2aaf35-b4fe-4f3f-d89e-cb7333269e0c"
      },
      "execution_count": null,
      "outputs": [
        {
          "output_type": "stream",
          "name": "stdout",
          "text": [
            "+---------+---------+--------------------+--------+---------------+---------+------+--------------+\n",
            "|InvoiceNo|StockCode|         Description|Quantity|    InvoiceDate|UnitPrice|UserID|       Country|\n",
            "+---------+---------+--------------------+--------+---------------+---------+------+--------------+\n",
            "|   562031|   90039D|FIRE POLISHED GLA...|       2| 8/1/2011 17:37|     3.75| 16984|United Kingdom|\n",
            "|   558371|    23205|CHARLOTTE BAG VIN...|      16|6/28/2011 15:44|     2.46|  null|United Kingdom|\n",
            "|   547042|    21289|LARGE STRIPES CHO...|       2|3/20/2011 11:00|     1.25|  null|United Kingdom|\n",
            "+---------+---------+--------------------+--------+---------------+---------+------+--------------+\n",
            "only showing top 3 rows\n",
            "\n"
          ]
        }
      ]
    },
    {
      "cell_type": "code",
      "source": [
        "user =df.select(\"UserID\")\n",
        "user.show(3)"
      ],
      "metadata": {
        "colab": {
          "base_uri": "https://localhost:8080/"
        },
        "id": "IjTYXRjDmUwX",
        "outputId": "0717a342-f547-49db-fdef-c5858b0fc529"
      },
      "execution_count": null,
      "outputs": [
        {
          "output_type": "stream",
          "name": "stdout",
          "text": [
            "+------+\n",
            "|UserID|\n",
            "+------+\n",
            "| 17908|\n",
            "| 17908|\n",
            "| 17908|\n",
            "+------+\n",
            "only showing top 3 rows\n",
            "\n"
          ]
        }
      ]
    },
    {
      "cell_type": "code",
      "source": [
        "user_country = df.select(\"UserID\",\"Country\")\n",
        "user_country.show(3)"
      ],
      "metadata": {
        "colab": {
          "base_uri": "https://localhost:8080/"
        },
        "id": "Wci_DdNYllOn",
        "outputId": "eb3870a5-bdd4-4c5e-db94-b42132963624"
      },
      "execution_count": null,
      "outputs": [
        {
          "output_type": "stream",
          "name": "stdout",
          "text": [
            "+------+--------------+\n",
            "|UserID|       Country|\n",
            "+------+--------------+\n",
            "| 13883|United Kingdom|\n",
            "| 13883|United Kingdom|\n",
            "| 13883|United Kingdom|\n",
            "+------+--------------+\n",
            "only showing top 3 rows\n",
            "\n"
          ]
        }
      ]
    },
    {
      "cell_type": "code",
      "source": [
        "df = df.filter(df.UnitPrice>0)\n",
        "df.show(3)"
      ],
      "metadata": {
        "colab": {
          "base_uri": "https://localhost:8080/"
        },
        "id": "meypKYGImDC-",
        "outputId": "6321f3b0-0995-45ef-92d5-176713648f55"
      },
      "execution_count": null,
      "outputs": [
        {
          "output_type": "stream",
          "name": "stdout",
          "text": [
            "+---------+---------+--------------------+--------+---------------+---------+------+--------------+\n",
            "|InvoiceNo|StockCode|         Description|Quantity|    InvoiceDate|UnitPrice|UserID|       Country|\n",
            "+---------+---------+--------------------+--------+---------------+---------+------+--------------+\n",
            "|   548194|    22766| PHOTO FRAME CORNICE|       1|3/29/2011 15:30|     5.79|  null|United Kingdom|\n",
            "|   562113|    22424|ENAMEL BREAD BIN ...|       1| 8/2/2011 16:11|    24.96|  null|United Kingdom|\n",
            "|   550351|    82482|WOODEN PICTURE FR...|       6|4/18/2011 10:20|     2.55| 15491|United Kingdom|\n",
            "+---------+---------+--------------------+--------+---------------+---------+------+--------------+\n",
            "only showing top 3 rows\n",
            "\n"
          ]
        }
      ]
    },
    {
      "cell_type": "code",
      "source": [
        "from pyspark.sql import functions as F\n",
        "from pyspark.sql.types import DoubleType, IntegerType, StringType, BooleanType\n",
        "\n",
        "df = df.withColumn('UnitPrice', F.col('UnitPrice').cast(DoubleType()))\n",
        "df = df.withColumn('Quantity', F.col('Quantity').cast(IntegerType()))\n",
        "df = df.withColumn('InvoiceDate',to_date(col(\"InvoiceDate\"), \"MM/dd/yyyy HH:mm\"))\n",
        "df = df.sort(F.desc(\"UnitPrice\"))\n",
        "df.show(5)"
      ],
      "metadata": {
        "colab": {
          "base_uri": "https://localhost:8080/"
        },
        "id": "3lQ3Gd4DmzVe",
        "outputId": "fe2e1985-3f4e-4303-f115-0cee5333a489"
      },
      "execution_count": null,
      "outputs": [
        {
          "output_type": "stream",
          "name": "stdout",
          "text": [
            "+---------+---------+-----------+--------+-----------+---------+------+--------------+\n",
            "|InvoiceNo|StockCode|Description|Quantity|InvoiceDate|UnitPrice|UserID|       Country|\n",
            "+---------+---------+-----------+--------+-----------+---------+------+--------------+\n",
            "|  C556445|        M|     Manual|      -1| 2011-06-10|  38970.0| 15098|United Kingdom|\n",
            "|  C580605|AMAZONFEE| AMAZON FEE|      -1| 2011-12-05| 17836.46|  null|United Kingdom|\n",
            "|  C540117|AMAZONFEE| AMAZON FEE|      -1| 2011-01-05| 16888.02|  null|United Kingdom|\n",
            "|  C540118|AMAZONFEE| AMAZON FEE|      -1| 2011-01-05| 16453.71|  null|United Kingdom|\n",
            "|  C537630|AMAZONFEE| AMAZON FEE|      -1| 2010-12-07| 13541.33|  null|United Kingdom|\n",
            "+---------+---------+-----------+--------+-----------+---------+------+--------------+\n",
            "only showing top 5 rows\n",
            "\n"
          ]
        }
      ]
    },
    {
      "cell_type": "code",
      "source": [
        "df = df.withColumn(\"Amount\", F.col(\"UnitPrice\")*F.col(\"Quantity\"))\n",
        "df.show(3)"
      ],
      "metadata": {
        "colab": {
          "base_uri": "https://localhost:8080/"
        },
        "id": "YwBxkdrCnb_I",
        "outputId": "cbec1b2a-42f0-47ff-d2eb-67ce4ce586ce"
      },
      "execution_count": null,
      "outputs": [
        {
          "output_type": "stream",
          "name": "stdout",
          "text": [
            "+---------+---------+-----------+--------+-----------+---------+------+--------------+---------+\n",
            "|InvoiceNo|StockCode|Description|Quantity|InvoiceDate|UnitPrice|UserID|       Country|   Amount|\n",
            "+---------+---------+-----------+--------+-----------+---------+------+--------------+---------+\n",
            "|  C556445|        M|     Manual|      -1| 2011-06-10|  38970.0| 15098|United Kingdom| -38970.0|\n",
            "|  C580605|AMAZONFEE| AMAZON FEE|      -1| 2011-12-05| 17836.46|  null|United Kingdom|-17836.46|\n",
            "|  C540117|AMAZONFEE| AMAZON FEE|      -1| 2011-01-05| 16888.02|  null|United Kingdom|-16888.02|\n",
            "+---------+---------+-----------+--------+-----------+---------+------+--------------+---------+\n",
            "only showing top 3 rows\n",
            "\n"
          ]
        }
      ]
    },
    {
      "cell_type": "code",
      "source": [
        "total_amount =df.groupBy([\"UserID\"]).agg(\n",
        "    F.sum(\"Amount\").alias(\"TotalAmount\")\n",
        "    ).sort(F.desc(\"TotalAmount\")).withColumn(\"TotalAmount\", F.round(\"TotalAmount\", 2)).filter(\"UserID IS NOT NULL\")\n",
        "total_amount.show(5)"
      ],
      "metadata": {
        "colab": {
          "base_uri": "https://localhost:8080/"
        },
        "id": "YwWtJe3UoTso",
        "outputId": "b1b0c2d8-06cf-4fcf-819e-f37d6193ffc9"
      },
      "execution_count": null,
      "outputs": [
        {
          "output_type": "stream",
          "name": "stdout",
          "text": [
            "+------+-----------+\n",
            "|UserID|TotalAmount|\n",
            "+------+-----------+\n",
            "| 18102|  254300.09|\n",
            "| 14646|  240630.51|\n",
            "| 17450|  185167.97|\n",
            "| 14911|   114588.8|\n",
            "| 12415|  109177.41|\n",
            "+------+-----------+\n",
            "only showing top 5 rows\n",
            "\n"
          ]
        }
      ]
    },
    {
      "cell_type": "code",
      "source": [
        "TotalCustomer = df.groupBy([\"Country\"]).agg(\n",
        "    F.approx_count_distinct(col('UserID')).alias(\"TotalCustomer\")\n",
        "    ).sort(F.desc(\"TotalCustomer\"))\n",
        "TotalCustomer.show(10)"
      ],
      "metadata": {
        "colab": {
          "base_uri": "https://localhost:8080/"
        },
        "id": "u5tnNF2iuzb2",
        "outputId": "1554c58d-3f30-42a2-fe71-33299c2078ef"
      },
      "execution_count": null,
      "outputs": [
        {
          "output_type": "stream",
          "name": "stdout",
          "text": [
            "+--------------+-------------+\n",
            "|       Country|TotalCustomer|\n",
            "+--------------+-------------+\n",
            "|United Kingdom|         3653|\n",
            "|       Germany|           92|\n",
            "|        France|           88|\n",
            "|         Spain|           32|\n",
            "|       Belgium|           26|\n",
            "|   Switzerland|           21|\n",
            "|      Portugal|           19|\n",
            "|         Italy|           15|\n",
            "|       Finland|           12|\n",
            "|       Austria|           11|\n",
            "+--------------+-------------+\n",
            "only showing top 10 rows\n",
            "\n"
          ]
        }
      ]
    },
    {
      "cell_type": "code",
      "source": [
        "top_5 = TotalCustomer.limit(5)\n",
        "top_5 = top_5.rdd.map(lambda x:x[0]).collect()\n",
        "print(top_5)"
      ],
      "metadata": {
        "colab": {
          "base_uri": "https://localhost:8080/"
        },
        "id": "DTK6akvluPL5",
        "outputId": "57c7211a-a25b-4e6e-82fd-b03475f1c522"
      },
      "execution_count": null,
      "outputs": [
        {
          "output_type": "stream",
          "name": "stdout",
          "text": [
            "['United Kingdom', 'Germany', 'France', 'Spain', 'Belgium']\n"
          ]
        }
      ]
    },
    {
      "cell_type": "code",
      "source": [
        "from pyspark.sql.window import Window"
      ],
      "metadata": {
        "id": "yFRvZixDtXRO"
      },
      "execution_count": null,
      "outputs": []
    },
    {
      "cell_type": "code",
      "source": [
        "window_spec = Window.partitionBy(df['UserID'])\n",
        "df = df.withColumn('Cumulative Amount', F.sum(col('Amount')).over(window_spec))\n",
        "df.show(5)"
      ],
      "metadata": {
        "colab": {
          "base_uri": "https://localhost:8080/"
        },
        "id": "oanjArtFrFC4",
        "outputId": "d20e4eb0-545c-4004-dc9e-b38ab25a042f"
      },
      "execution_count": null,
      "outputs": [
        {
          "output_type": "stream",
          "name": "stdout",
          "text": [
            "+---------+---------+--------------------+--------+-----------+---------+------+--------------+--------+------------------+\n",
            "|InvoiceNo|StockCode|         Description|Quantity|InvoiceDate|UnitPrice|UserID|       Country|  Amount| Cumulative Amount|\n",
            "+---------+---------+--------------------+--------+-----------+---------+------+--------------+--------+------------------+\n",
            "|  C541433|    23166|MEDIUM CERAMIC TO...|  -74215| 2011-01-18|     1.04| 12346|United Kingdom|-77183.6|               0.0|\n",
            "|   541431|    23166|MEDIUM CERAMIC TO...|   74215| 2011-01-18|     1.04| 12346|United Kingdom| 77183.6|               0.0|\n",
            "|   542237|    22423|REGENCY CAKESTAND...|       3| 2011-01-26|    12.75| 12347|       Iceland|   38.25|3764.4800000000023|\n",
            "|   573511|    22423|REGENCY CAKESTAND...|       6| 2011-10-31|    12.75| 12347|       Iceland|    76.5|3764.4800000000023|\n",
            "|   549222|    22423|REGENCY CAKESTAND...|       3| 2011-04-07|    12.75| 12347|       Iceland|   38.25|3764.4800000000023|\n",
            "+---------+---------+--------------------+--------+-----------+---------+------+--------------+--------+------------------+\n",
            "only showing top 5 rows\n",
            "\n"
          ]
        }
      ]
    },
    {
      "cell_type": "code",
      "source": [
        "### remove StockCode\n",
        "new_df = df.drop(\"StockCode\")"
      ],
      "metadata": {
        "id": "XVSLf5PJs_KS"
      },
      "execution_count": null,
      "outputs": []
    },
    {
      "cell_type": "code",
      "source": [
        "new_df.show(3)"
      ],
      "metadata": {
        "colab": {
          "base_uri": "https://localhost:8080/"
        },
        "id": "z8Vqk57hv4C2",
        "outputId": "0972982b-ea34-4b14-ccdc-9bd5f8f3bd32"
      },
      "execution_count": null,
      "outputs": [
        {
          "output_type": "stream",
          "name": "stdout",
          "text": [
            "+---------+--------------------+--------+-----------+---------+------+--------------+--------+------------------+\n",
            "|InvoiceNo|         Description|Quantity|InvoiceDate|UnitPrice|UserID|       Country|  Amount| Cumulative Amount|\n",
            "+---------+--------------------+--------+-----------+---------+------+--------------+--------+------------------+\n",
            "|   541431|MEDIUM CERAMIC TO...|   74215| 2011-01-18|     1.04| 12346|United Kingdom| 77183.6|               0.0|\n",
            "|  C541433|MEDIUM CERAMIC TO...|  -74215| 2011-01-18|     1.04| 12346|United Kingdom|-77183.6|               0.0|\n",
            "|   562032|REGENCY CAKESTAND...|       3| 2011-08-02|    12.75| 12347|       Iceland|   38.25|3764.4800000000023|\n",
            "+---------+--------------------+--------+-----------+---------+------+--------------+--------+------------------+\n",
            "only showing top 3 rows\n",
            "\n"
          ]
        }
      ]
    },
    {
      "cell_type": "code",
      "source": [
        "import re\n",
        "from pyspark.sql.functions import udf\n",
        "def check_contain_alphabet(col):\n",
        "    res = bool(re.match('[a-zA-Z]',col))\n",
        "    if res:\n",
        "      return True\n",
        "    else:\n",
        "      return False\n",
        "check_contain_alphabet = F.udf(check_contain_alphabet, BooleanType())\n",
        "df = df.withColumn(\"check_contain_alphabet\", check_contain_alphabet(\"StockCode\"))\n",
        "df.show(5)"
      ],
      "metadata": {
        "id": "TbHkC23mybMo",
        "colab": {
          "base_uri": "https://localhost:8080/"
        },
        "outputId": "3fe62b69-285f-4b6f-cefd-0fc542d38b28"
      },
      "execution_count": null,
      "outputs": [
        {
          "output_type": "stream",
          "name": "stdout",
          "text": [
            "+---------+---------+--------------------+--------+-----------+---------+------+--------------+--------+------------------+----------------------+\n",
            "|InvoiceNo|StockCode|         Description|Quantity|InvoiceDate|UnitPrice|UserID|       Country|  Amount| Cumulative Amount|check_contain_alphabet|\n",
            "+---------+---------+--------------------+--------+-----------+---------+------+--------------+--------+------------------+----------------------+\n",
            "|  C541433|    23166|MEDIUM CERAMIC TO...|  -74215| 2011-01-18|     1.04| 12346|United Kingdom|-77183.6|               0.0|                 false|\n",
            "|   541431|    23166|MEDIUM CERAMIC TO...|   74215| 2011-01-18|     1.04| 12346|United Kingdom| 77183.6|               0.0|                 false|\n",
            "|   542237|    22423|REGENCY CAKESTAND...|       3| 2011-01-26|    12.75| 12347|       Iceland|   38.25|3764.4800000000023|                 false|\n",
            "|   573511|    22423|REGENCY CAKESTAND...|       6| 2011-10-31|    12.75| 12347|       Iceland|    76.5|3764.4800000000023|                 false|\n",
            "|   549222|    22423|REGENCY CAKESTAND...|       3| 2011-04-07|    12.75| 12347|       Iceland|   38.25|3764.4800000000023|                 false|\n",
            "+---------+---------+--------------------+--------+-----------+---------+------+--------------+--------+------------------+----------------------+\n",
            "only showing top 5 rows\n",
            "\n"
          ]
        }
      ]
    },
    {
      "cell_type": "code",
      "source": [
        "df.filter(df[\"check_contain_alphabet\"]==True).show(5)"
      ],
      "metadata": {
        "id": "qsetAE3_zKlN",
        "colab": {
          "base_uri": "https://localhost:8080/"
        },
        "outputId": "b16c2ae2-3ced-4fd2-cfd2-be382afb5ce9"
      },
      "execution_count": null,
      "outputs": [
        {
          "output_type": "stream",
          "name": "stdout",
          "text": [
            "+---------+---------+-----------+--------+-----------+---------+------+-------+------+------------------+----------------------+\n",
            "|InvoiceNo|StockCode|Description|Quantity|InvoiceDate|UnitPrice|UserID|Country|Amount| Cumulative Amount|check_contain_alphabet|\n",
            "+---------+---------+-----------+--------+-----------+---------+------+-------+------+------------------+----------------------+\n",
            "|   541998|     POST|    POSTAGE|       1| 2011-01-25|     40.0| 12348|Finland|  40.0|            1114.0|                  true|\n",
            "|   548955|     POST|    POSTAGE|       1| 2011-04-05|     40.0| 12348|Finland|  40.0|            1114.0|                  true|\n",
            "|   539318|     POST|    POSTAGE|       6| 2010-12-16|     40.0| 12348|Finland| 240.0|            1114.0|                  true|\n",
            "|   568172|     POST|    POSTAGE|       1| 2011-09-25|     40.0| 12348|Finland|  40.0|            1114.0|                  true|\n",
            "|   543037|     POST|    POSTAGE|       1| 2011-02-02|     40.0| 12350| Norway|  40.0|295.30000000000007|                  true|\n",
            "+---------+---------+-----------+--------+-----------+---------+------+-------+------+------------------+----------------------+\n",
            "only showing top 5 rows\n",
            "\n"
          ]
        }
      ]
    },
    {
      "cell_type": "code",
      "source": [
        "df = df.withColumn(\"check_contain_alphabet\",when(df.check_contain_alphabet == True, 1).otherwise(0))\n",
        "df.show(5)"
      ],
      "metadata": {
        "colab": {
          "base_uri": "https://localhost:8080/"
        },
        "id": "2sYe83AwOBFP",
        "outputId": "3953cf00-8c23-42b5-af74-7bb32e68beda"
      },
      "execution_count": null,
      "outputs": [
        {
          "output_type": "stream",
          "name": "stdout",
          "text": [
            "+---------+---------+--------------------+--------+-----------+---------+------+--------------+--------+------------------+----------------------+\n",
            "|InvoiceNo|StockCode|         Description|Quantity|InvoiceDate|UnitPrice|UserID|       Country|  Amount| Cumulative Amount|check_contain_alphabet|\n",
            "+---------+---------+--------------------+--------+-----------+---------+------+--------------+--------+------------------+----------------------+\n",
            "|  C541433|    23166|MEDIUM CERAMIC TO...|  -74215| 2011-01-18|     1.04| 12346|United Kingdom|-77183.6|               0.0|                     0|\n",
            "|   541431|    23166|MEDIUM CERAMIC TO...|   74215| 2011-01-18|     1.04| 12346|United Kingdom| 77183.6|               0.0|                     0|\n",
            "|   542237|    22423|REGENCY CAKESTAND...|       3| 2011-01-26|    12.75| 12347|       Iceland|   38.25|3764.4800000000023|                     0|\n",
            "|   573511|    22423|REGENCY CAKESTAND...|       6| 2011-10-31|    12.75| 12347|       Iceland|    76.5|3764.4800000000023|                     0|\n",
            "|   549222|    22423|REGENCY CAKESTAND...|       3| 2011-04-07|    12.75| 12347|       Iceland|   38.25|3764.4800000000023|                     0|\n",
            "+---------+---------+--------------------+--------+-----------+---------+------+--------------+--------+------------------+----------------------+\n",
            "only showing top 5 rows\n",
            "\n"
          ]
        }
      ]
    },
    {
      "cell_type": "code",
      "source": [
        "pivot = df[df[\"Country\"].isin(top_5)].groupBy('InvoiceDate').pivot('Country').agg(F.round(F.sum('Amount'),3).alias('TotalAmount')).na.fill(value=0)\n",
        "for col in pivot.columns[1:]:\n",
        "   pivot= pivot.withColumn(col, when(pivot[col]<0,0).otherwise(pivot[col]))\n",
        "\n",
        "pivot.show()"
      ],
      "metadata": {
        "colab": {
          "base_uri": "https://localhost:8080/"
        },
        "id": "K22SOaBbR5pR",
        "outputId": "e29bb4c1-2da9-45bb-f00a-882d7970e86a"
      },
      "execution_count": null,
      "outputs": [
        {
          "output_type": "stream",
          "name": "stdout",
          "text": [
            "+-----------+-------+-------+-------+------+--------------+\n",
            "|InvoiceDate|Belgium| France|Germany| Spain|United Kingdom|\n",
            "+-----------+-------+-------+-------+------+--------------+\n",
            "| 2011-11-29|  281.9|1274.16|1290.36|136.39|      60434.59|\n",
            "| 2011-06-03|    0.0|    0.0|   68.1| 264.4|      13550.75|\n",
            "| 2011-11-02|    0.0| 601.24| 110.03|   0.0|      32920.52|\n",
            "| 2011-10-03|    0.0| 346.57|    0.0|   0.0|      59725.44|\n",
            "| 2011-10-07|    0.0|  474.6|2474.51|340.54|       37415.1|\n",
            "| 2011-05-06| 367.48|    0.0| 138.98| 522.6|      26360.16|\n",
            "| 2011-08-14|    0.0|  46.65|    0.0|   0.0|       4777.16|\n",
            "| 2011-01-30|    0.0|    0.0|    0.0|   0.0|       5693.28|\n",
            "| 2011-07-27|1052.77| 163.35|  394.8|   0.0|      17234.54|\n",
            "| 2011-04-10| 469.69|    0.0|    0.0|   0.0|       7550.94|\n",
            "| 2011-07-12|    0.0|1082.15| 373.92|   0.0|      20369.11|\n",
            "| 2011-03-09|    0.0|    0.0|    0.0|   0.0|      16606.04|\n",
            "| 2011-10-31| 422.05| 330.76| 631.13|   0.0|      41233.78|\n",
            "| 2011-07-07| 281.65|    0.0|1086.41| 357.1|       25729.3|\n",
            "| 2011-01-23|    0.0|  483.9|    0.0|   0.0|       8884.46|\n",
            "| 2011-08-21|    0.0| 497.85| 291.35|   0.0|      10484.81|\n",
            "| 2011-07-18|    0.0|1708.28|    0.0|   0.0|      19473.12|\n",
            "| 2011-11-18|1040.39| 913.08|1016.74|   0.0|      36823.72|\n",
            "| 2011-04-04|    0.0| 691.11| 592.93|   0.0|      20428.87|\n",
            "| 2011-07-14|    0.0|    0.0|1044.55|   0.0|       22443.1|\n",
            "+-----------+-------+-------+-------+------+--------------+\n",
            "only showing top 20 rows\n",
            "\n"
          ]
        }
      ]
    },
    {
      "cell_type": "code",
      "source": [
        "# \"stack(<cnt of columns you want to put in one column>, 'firstcolname', firstcolname , 'secondcolname' ,secondcolname ......) as (Type, Value)\"\n",
        "pivot = pivot.withColumnRenamed(\"United Kingdom\",\"United_Kingdom\")\n",
        "expression = \"\"\n",
        "cnt=0\n",
        "for column in pivot.columns:\n",
        "    if column!='InvoiceDate':\n",
        "        cnt +=1\n",
        "        expression += f\"'{column}' , {column},\"\n",
        "expression = f\"stack({cnt}, {expression[:-1]}) as (Country,TotalSales)\"\n",
        "\n",
        "unpivot = pivot.select('InvoiceDate',F.expr(expression))\n",
        "unpivot.show()"
      ],
      "metadata": {
        "id": "_lmkaxKvSVO5",
        "colab": {
          "base_uri": "https://localhost:8080/"
        },
        "outputId": "8a4c252c-1703-4adf-e477-ea73a803e1f1"
      },
      "execution_count": null,
      "outputs": [
        {
          "output_type": "stream",
          "name": "stdout",
          "text": [
            "+-----------+--------------+----------+\n",
            "|InvoiceDate|       Country|TotalSales|\n",
            "+-----------+--------------+----------+\n",
            "| 2011-11-29|       Belgium|     281.9|\n",
            "| 2011-11-29|        France|   1274.16|\n",
            "| 2011-11-29|       Germany|   1290.36|\n",
            "| 2011-11-29|         Spain|    136.39|\n",
            "| 2011-11-29|United_Kingdom|  60434.59|\n",
            "| 2011-06-03|       Belgium|       0.0|\n",
            "| 2011-06-03|        France|       0.0|\n",
            "| 2011-06-03|       Germany|      68.1|\n",
            "| 2011-06-03|         Spain|     264.4|\n",
            "| 2011-06-03|United_Kingdom|  13550.75|\n",
            "| 2011-11-02|       Belgium|       0.0|\n",
            "| 2011-11-02|        France|    601.24|\n",
            "| 2011-11-02|       Germany|    110.03|\n",
            "| 2011-11-02|         Spain|       0.0|\n",
            "| 2011-11-02|United_Kingdom|  32920.52|\n",
            "| 2011-10-03|       Belgium|       0.0|\n",
            "| 2011-10-03|        France|    346.57|\n",
            "| 2011-10-03|       Germany|       0.0|\n",
            "| 2011-10-03|         Spain|       0.0|\n",
            "| 2011-10-03|United_Kingdom|  59725.44|\n",
            "+-----------+--------------+----------+\n",
            "only showing top 20 rows\n",
            "\n"
          ]
        }
      ]
    },
    {
      "cell_type": "code",
      "source": [
        ""
      ],
      "metadata": {
        "id": "pAzZEtGIzZlA"
      },
      "execution_count": null,
      "outputs": []
    }
  ]
}