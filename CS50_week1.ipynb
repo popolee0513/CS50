{
 "cells": [
  {
   "cell_type": "code",
   "execution_count": 1,
   "metadata": {},
   "outputs": [],
   "source": [
    "def test(x):\n",
    "    a=0\n",
    "    add=0\n",
    "    while x>=1:\n",
    "        ans=x%10\n",
    "        x=(x//10)\n",
    "        a+=1\n",
    "        \n",
    "        if 10<x<100:\n",
    "            record=x\n",
    "        if a%2==0:\n",
    "            ans*=2\n",
    "            if ans>=10:\n",
    "                temp=ans%10\n",
    "                temp1=ans//10\n",
    "                ans=temp+temp1\n",
    "        add+=ans\n",
    "    if add%10!=0:\n",
    "        print(\"INVALID\")\n",
    "    else:\n",
    "        if record//10==4 and (a==13 or a==16):\n",
    "            print(\"VISA\")\n",
    "        elif (record==34 or record==37) and a==15 :\n",
    "            print(\"AMEX\")\n",
    "        elif a==16:\n",
    "            print(\"MASTERCARD\")\n",
    "        else:\n",
    "            print(\"INVALID\")"
   ]
  },
  {
   "cell_type": "code",
   "execution_count": 2,
   "metadata": {},
   "outputs": [
    {
     "name": "stdout",
     "output_type": "stream",
     "text": [
      "AMEX\n",
      "AMEX\n",
      "MASTERCARD\n",
      "MASTERCARD\n",
      "VISA\n",
      "VISA\n",
      "VISA\n",
      "INVALID\n",
      "INVALID\n",
      "INVALID\n",
      "INVALID\n",
      "INVALID\n"
     ]
    }
   ],
   "source": [
    "test(378282246310005)\n",
    "test(371449635398431)\n",
    "test(5555555555554444)\n",
    "test(5105105105105100)\n",
    "test(4111111111111111)\n",
    "test(4012888888881881)\n",
    "test(4222222222222)\n",
    "test(1234567890)\n",
    "test(369421438430814)\n",
    "test(4062901840)\n",
    "test(4111111111111113)\n",
    "test(4222222222223)"
   ]
  },
  {
   "cell_type": "code",
   "execution_count": 3,
   "metadata": {},
   "outputs": [
    {
     "name": "stdout",
     "output_type": "stream",
     "text": [
      "        #    # \n",
      "\n",
      "      # #    # # \n",
      "\n",
      "    # # #    # # # \n",
      "\n",
      "  # # # #    # # # # \n",
      "\n"
     ]
    }
   ],
   "source": [
    "def block(x):\n",
    "    for i in range(x):\n",
    "        for j in range(x-i):\n",
    "            print(\" \",end =\" \")\n",
    "        for j in range(i+1):\n",
    "            print(\"#\",end =\" \")\n",
    "        print(\"  \",end =\" \")\n",
    "        for j in range(i+1):\n",
    "            print(\"#\",end =\" \")\n",
    "        print('\\n')\n",
    "block(4)"
   ]
  },
  {
   "cell_type": "code",
   "execution_count": null,
   "metadata": {},
   "outputs": [],
   "source": []
  },
  {
   "cell_type": "code",
   "execution_count": null,
   "metadata": {},
   "outputs": [],
   "source": []
  }
 ],
 "metadata": {
  "kernelspec": {
   "display_name": "Python 3",
   "language": "python",
   "name": "python3"
  },
  "language_info": {
   "codemirror_mode": {
    "name": "ipython",
    "version": 3
   },
   "file_extension": ".py",
   "mimetype": "text/x-python",
   "name": "python",
   "nbconvert_exporter": "python",
   "pygments_lexer": "ipython3",
   "version": "3.8.3"
  }
 },
 "nbformat": 4,
 "nbformat_minor": 4
}
