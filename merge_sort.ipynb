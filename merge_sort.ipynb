{
 "cells": [
  {
   "cell_type": "code",
   "execution_count": 1,
   "metadata": {},
   "outputs": [
    {
     "data": {
      "text/plain": [
       "'find'"
      ]
     },
     "execution_count": 1,
     "metadata": {},
     "output_type": "execute_result"
    }
   ],
   "source": [
    "find=[5,6,7,8,1,2,3]\n",
    "\n",
    "def linear_search(x):\n",
    "    for i in range(len(x)):\n",
    "        if i==1:\n",
    "            return \"find\"\n",
    "    print(\"not find\")\n",
    "    return \"not_find\"\n",
    "linear_search(find)"
   ]
  },
  {
   "cell_type": "code",
   "execution_count": 2,
   "metadata": {},
   "outputs": [],
   "source": [
    "def concat(left,right):\n",
    "    temp=[0]*(len(right)+len(left))\n",
    "    index_left=0\n",
    "    index_right=0\n",
    "    for i in range(len(temp)-1):\n",
    "        if left[index_left]>right[index_right]:\n",
    "            temp[i]=right[index_right]\n",
    "            index_right+=1\n",
    "        else:\n",
    "            temp[i]=left[index_left]\n",
    "            index_left+=1\n",
    "    if index_left==len(left):\n",
    "        temp[len(temp)-1]=right[index_right]\n",
    "    else:\n",
    "        temp[len(temp)-1]=left[index_left]\n",
    "    return temp"
   ]
  },
  {
   "cell_type": "code",
   "execution_count": 3,
   "metadata": {},
   "outputs": [
    {
     "data": {
      "text/plain": [
       "[1, 2, 3, 4, 5, 6, 7, 8]"
      ]
     },
     "execution_count": 3,
     "metadata": {},
     "output_type": "execute_result"
    }
   ],
   "source": [
    "concat([3,5,6,8],[1,2,4,7])"
   ]
  },
  {
   "cell_type": "code",
   "execution_count": 4,
   "metadata": {},
   "outputs": [
    {
     "data": {
      "text/plain": [
       "[1, 3]"
      ]
     },
     "execution_count": 4,
     "metadata": {},
     "output_type": "execute_result"
    }
   ],
   "source": [
    "concat([1],[3])"
   ]
  },
  {
   "cell_type": "code",
   "execution_count": 5,
   "metadata": {},
   "outputs": [],
   "source": [
    "array=[6,3,8,5,2,7,4,1,11]\n",
    "def merge_sort(x):\n",
    "    if len(x)==1:\n",
    "        return x\n",
    "    else:\n",
    "        length=len(x)\n",
    "        cut=int(length/2)\n",
    "        left=x[:cut]\n",
    "        right=x[cut:]\n",
    "        left=merge_sort(left)\n",
    "        right=merge_sort(right)\n",
    "        together=concat(left,right)\n",
    "        return together"
   ]
  },
  {
   "cell_type": "code",
   "execution_count": 6,
   "metadata": {
    "scrolled": true
   },
   "outputs": [
    {
     "data": {
      "text/plain": [
       "[1, 2, 3, 4, 5, 6, 7, 8, 11]"
      ]
     },
     "execution_count": 6,
     "metadata": {},
     "output_type": "execute_result"
    }
   ],
   "source": [
    "merge_sort(array)"
   ]
  },
  {
   "cell_type": "raw",
   "metadata": {},
   "source": []
  },
  {
   "cell_type": "code",
   "execution_count": null,
   "metadata": {},
   "outputs": [],
   "source": []
  },
  {
   "cell_type": "code",
   "execution_count": null,
   "metadata": {},
   "outputs": [],
   "source": []
  },
  {
   "cell_type": "code",
   "execution_count": null,
   "metadata": {},
   "outputs": [],
   "source": []
  },
  {
   "cell_type": "code",
   "execution_count": null,
   "metadata": {},
   "outputs": [],
   "source": []
  }
 ],
 "metadata": {
  "kernelspec": {
   "display_name": "Python 3",
   "language": "python",
   "name": "python3"
  },
  "language_info": {
   "codemirror_mode": {
    "name": "ipython",
    "version": 3
   },
   "file_extension": ".py",
   "mimetype": "text/x-python",
   "name": "python",
   "nbconvert_exporter": "python",
   "pygments_lexer": "ipython3",
   "version": "3.8.3"
  }
 },
 "nbformat": 4,
 "nbformat_minor": 4
}
