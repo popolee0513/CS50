{
 "cells": [
  {
   "cell_type": "code",
   "execution_count": 1,
   "metadata": {},
   "outputs": [],
   "source": [
    "from werkzeug.security import generate_password_hash, \\\n",
    "     check_password_hash\n",
    "\n",
    "class User(object):\n",
    "\n",
    "    def __init__(self, username, password):\n",
    "        self.username = username\n",
    "        self.set_password(password)\n",
    "\n",
    "    def set_password(self, password):\n",
    "        self.pw_hash = generate_password_hash(password)\n",
    "\n",
    "    def check_password(self, password):\n",
    "        return check_password_hash(self.pw_hash, password)"
   ]
  },
  {
   "cell_type": "code",
   "execution_count": 2,
   "metadata": {},
   "outputs": [
    {
     "name": "stdout",
     "output_type": "stream",
     "text": [
      "pbkdf2:sha256:150000$0dGU1PtK$1cbed5d09274afdfe88e5eaa376444d525223a38b7c7a0ee4abaf94c44b043d8\n",
      "True\n",
      "False\n"
     ]
    }
   ],
   "source": [
    "me = User('John Doe', 'default')\n",
    "print(me.pw_hash)\n",
    "\n",
    "print(me.check_password('default'))\n",
    "print(me.check_password('defaultx'))"
   ]
  },
  {
   "cell_type": "code",
   "execution_count": null,
   "metadata": {},
   "outputs": [],
   "source": []
  }
 ],
 "metadata": {
  "kernelspec": {
   "display_name": "Python 3",
   "language": "python",
   "name": "python3"
  },
  "language_info": {
   "codemirror_mode": {
    "name": "ipython",
    "version": 3
   },
   "file_extension": ".py",
   "mimetype": "text/x-python",
   "name": "python",
   "nbconvert_exporter": "python",
   "pygments_lexer": "ipython3",
   "version": "3.8.3"
  }
 },
 "nbformat": 4,
 "nbformat_minor": 4
}
